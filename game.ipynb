{
  "nbformat": 4,
  "nbformat_minor": 0,
  "metadata": {
    "kernelspec": {
      "display_name": "Python 3",
      "language": "python",
      "name": "python3"
    },
    "language_info": {
      "codemirror_mode": {
        "name": "ipython",
        "version": 3
      },
      "file_extension": ".py",
      "mimetype": "text/x-python",
      "name": "python",
      "nbconvert_exporter": "python",
      "pygments_lexer": "ipython3",
      "version": "3.7.4"
    },
    "colab": {
      "name": "game.ipynb",
      "provenance": [],
      "include_colab_link": true
    }
  },
  "cells": [
    {
      "cell_type": "markdown",
      "metadata": {
        "id": "view-in-github",
        "colab_type": "text"
      },
      "source": [
        "<a href=\"https://colab.research.google.com/github/Woosub-Kim/sample_python/blob/master/game.ipynb\" target=\"_parent\"><img src=\"https://colab.research.google.com/assets/colab-badge.svg\" alt=\"Open In Colab\"/></a>"
      ]
    },
    {
      "cell_type": "code",
      "metadata": {
        "scrolled": true,
        "id": "cm01Uza_Zyss",
        "colab_type": "code",
        "outputId": "8f7545a7-a3d7-4045-e994-d9346e7129a4",
        "colab": {
          "base_uri": "https://localhost:8080/",
          "height": 503
        }
      },
      "source": [
        "import numpy as np\n",
        "def rcp(num):\n",
        "    if num == 1: return '가위'\n",
        "    elif num==2: return '바위'\n",
        "    else: return '보'\n",
        "def rcpprinter(u,c):\n",
        "    print('사용자의 선택:{}'.format(rcp(u)))\n",
        "    print('컴퓨터의 선택:{}'.format(rcp(c)))\n",
        "coin = 0\n",
        "while True:\n",
        "    if coin==0:\n",
        "        try:\n",
        "            coin = 5 if input('계속 하려면 0을 누르세요. 그만하려면 아무 키를 누르세요.')=='0' else 0\n",
        "        except:\n",
        "            print('다시 입력하세요')\n",
        "    if coin==0: break\n",
        "    while True:\n",
        "        try:\n",
        "            user = int(input('1: 가위, 2: 바위, 3: 보'))\n",
        "            if user not in (1,2,3):\n",
        "                print('??')\n",
        "                raise Exception\n",
        "            break\n",
        "        except:\n",
        "            print('1,2,3 중 입력하세요')\n",
        "    computer = np.random.choice([1,2,3])\n",
        "    print(user, computer)\n",
        "    if user==computer:\n",
        "        rcpprinter(user,computer)\n",
        "        print('비김')\n",
        "    elif (user, computer) in [(1,3),(2,1),(3,2)]:\n",
        "        rcpprinter(user,computer)\n",
        "        print('당신의 승리')\n",
        "    else:\n",
        "        rcpprinter(user,computer)\n",
        "        print('컴퓨터의 승리')\n",
        "    coin -= 1\n"
      ],
      "execution_count": 0,
      "outputs": [
        {
          "output_type": "stream",
          "text": [
            "계속 하려면 0을 누르세요. 그만하려면 아무 키를 누르세요.0\n",
            "1: 가위, 2: 바위, 3: 보3\n",
            "3 2\n",
            "사용자의 선택:보\n",
            "컴퓨터의 선택:바위\n",
            "당신의 승리\n",
            "1: 가위, 2: 바위, 3: 보2\n",
            "2 3\n",
            "사용자의 선택:바위\n",
            "컴퓨터의 선택:보\n",
            "컴퓨터의 승리\n",
            "1: 가위, 2: 바위, 3: 보1\n",
            "1 1\n",
            "사용자의 선택:가위\n",
            "컴퓨터의 선택:가위\n",
            "비김\n",
            "1: 가위, 2: 바위, 3: 보1\n",
            "1 3\n",
            "사용자의 선택:가위\n",
            "컴퓨터의 선택:보\n",
            "당신의 승리\n",
            "1: 가위, 2: 바위, 3: 보2\n",
            "2 3\n",
            "사용자의 선택:바위\n",
            "컴퓨터의 선택:보\n",
            "컴퓨터의 승리\n",
            "계속 하려면 0을 누르세요. 그만하려면 아무 키를 누르세요.2\n"
          ],
          "name": "stdout"
        }
      ]
    },
    {
      "cell_type": "code",
      "metadata": {
        "id": "AW9DwsLTZys5",
        "colab_type": "code",
        "outputId": "fc8d88c5-0b1e-451c-ebf3-3d7cd4907006",
        "colab": {}
      },
      "source": [
        "while True:\n",
        "    print('무간지옥')\n",
        "    ip = input('0을 누르면 종료')\n",
        "    if ip == '0':\n",
        "        print('잘가라')\n",
        "        break\n",
        "    print('영원히 고통받지')"
      ],
      "execution_count": 0,
      "outputs": [
        {
          "output_type": "stream",
          "text": [
            "무간지옥\n",
            "0을 누르면 종료\n",
            "영원히 고통받지\n",
            "무간지옥\n",
            "0을 누르면 종료9\n",
            "영원히 고통받지\n",
            "무간지옥\n",
            "0을 누르면 종료8\n",
            "영원히 고통받지\n",
            "무간지옥\n",
            "0을 누르면 종료7\n",
            "영원히 고통받지\n",
            "무간지옥\n",
            "0을 누르면 종료6\n",
            "영원히 고통받지\n",
            "무간지옥\n",
            "0을 누르면 종료5\n",
            "영원히 고통받지\n",
            "무간지옥\n",
            "0을 누르면 종료4\n",
            "영원히 고통받지\n",
            "무간지옥\n",
            "0을 누르면 종료3\n",
            "영원히 고통받지\n",
            "무간지옥\n",
            "0을 누르면 종료2\n",
            "영원히 고통받지\n",
            "무간지옥\n",
            "0을 누르면 종료1\n",
            "영원히 고통받지\n",
            "무간지옥\n",
            "0을 누르면 종료0\n",
            "잘가라\n"
          ],
          "name": "stdout"
        }
      ]
    },
    {
      "cell_type": "code",
      "metadata": {
        "id": "2hkv0ELXZytA",
        "colab_type": "code",
        "outputId": "81674c1c-7d62-4b08-88df-537a33b0fe3f",
        "colab": {}
      },
      "source": [
        "import numpy as np\n",
        "while True:\n",
        "    print('당신은 무인도에 갇혔습니다. 만약 주사위를 두번 굴려 같은 숫자가 나오면 빠져나갈 수 있습니다.')\n",
        "    u = input('주사위를 던지기 위해 아무거나 입력하세요')\n",
        "    dice1 = np.random.choice([1,2,3,4,5,6])\n",
        "    print('첫 주사위: ',dice1)\n",
        "    dice2 = np.random.choice([1,2,3,4,5,6])\n",
        "    print('둘째 주사위: ',dice2)\n",
        "    if dice1 == dice2:\n",
        "        print('탈출성공')\n",
        "        break\n",
        "    else:\n",
        "        print('꽝!')\n",
        "    "
      ],
      "execution_count": 0,
      "outputs": [
        {
          "output_type": "stream",
          "text": [
            "당신은 무인도에 갇혔습니다. 만약 주사위를 두번 굴려 같은 숫자가 나오면 빠져나갈 수 있습니다.\n",
            "주사위를 던지기 위해 아무거나 입력하세요1\n",
            "첫 주사위:  6\n",
            "둘째 주사위:  5\n",
            "꽝!\n",
            "당신은 무인도에 갇혔습니다. 만약 주사위를 두번 굴려 같은 숫자가 나오면 빠져나갈 수 있습니다.\n",
            "주사위를 던지기 위해 아무거나 입력하세요1\n",
            "첫 주사위:  4\n",
            "둘째 주사위:  2\n",
            "꽝!\n",
            "당신은 무인도에 갇혔습니다. 만약 주사위를 두번 굴려 같은 숫자가 나오면 빠져나갈 수 있습니다.\n",
            "주사위를 던지기 위해 아무거나 입력하세요2\n",
            "첫 주사위:  2\n",
            "둘째 주사위:  6\n",
            "꽝!\n",
            "당신은 무인도에 갇혔습니다. 만약 주사위를 두번 굴려 같은 숫자가 나오면 빠져나갈 수 있습니다.\n",
            "주사위를 던지기 위해 아무거나 입력하세요2\n",
            "첫 주사위:  6\n",
            "둘째 주사위:  3\n",
            "꽝!\n",
            "당신은 무인도에 갇혔습니다. 만약 주사위를 두번 굴려 같은 숫자가 나오면 빠져나갈 수 있습니다.\n",
            "주사위를 던지기 위해 아무거나 입력하세요2\n",
            "첫 주사위:  5\n",
            "둘째 주사위:  3\n",
            "꽝!\n",
            "당신은 무인도에 갇혔습니다. 만약 주사위를 두번 굴려 같은 숫자가 나오면 빠져나갈 수 있습니다.\n",
            "주사위를 던지기 위해 아무거나 입력하세요2\n",
            "첫 주사위:  1\n",
            "둘째 주사위:  1\n",
            "탈출성공\n"
          ],
          "name": "stdout"
        }
      ]
    },
    {
      "cell_type": "code",
      "metadata": {
        "id": "di1ixwHJZytG",
        "colab_type": "code",
        "outputId": "f74b1e52-ff1f-4d44-afc8-e615205cbdaa",
        "colab": {}
      },
      "source": [
        "import numpy as np\n",
        "money = 10000\n",
        "while True:\n",
        "    print('야바위꾼과 내기를 할 수 있습니다')\n",
        "    ybw = np.random.choice([1,2,3])\n",
        "    while True:\n",
        "        try:\n",
        "            you = int(input('1,2,3중 하나를 선택하세요'))\n",
        "            if you in (1,2,3):\n",
        "                print('당신의 선택: ', you)\n",
        "                break\n",
        "            else:\n",
        "                raise Exception\n",
        "        except:\n",
        "            print('1,2,3중에 선택하세요')\n",
        "    while True:\n",
        "        try:\n",
        "            print('당신의 한도', money)\n",
        "            bet = int(input('당신이 가진 금액 한도에서 베팅하세요(100원 단위)'))\n",
        "            if (bet <= money)and(bet%100==0):\n",
        "                money -= bet\n",
        "                print('당신의 베팅: ',bet)\n",
        "                print('당신의 잔액', money)\n",
        "                break\n",
        "            else:\n",
        "                raise Exception\n",
        "        except:\n",
        "            print('당신이 가진 금액 한도내에서 숫자로 입력하세요(100 단위)')\n",
        "    print('당신의 선택: ', you)\n",
        "    print('야바위 선택: ', ybw)\n",
        "    if you == ybw:\n",
        "        money += 2*bet\n",
        "    print('당신의 잔액', money)\n",
        "    if money <= 0:\n",
        "        print('잔액이 0이 되어 야바위판에서 쫓겨났습니다')\n",
        "        break\n",
        "    keepgoing = input('계속하시려면 0을 입력하세요')\n",
        "    if keepgoing != '0':\n",
        "        break"
      ],
      "execution_count": 0,
      "outputs": [
        {
          "output_type": "stream",
          "text": [
            "야바위꾼과 내기를 할 수 있습니다\n",
            "1,2,3중 하나를 선택하세요3\n",
            "당신의 선택:  3\n",
            "당신의 한도 10000\n",
            "당신이 가진 금액 한도에서 베팅하세요(100원 단위)10000\n",
            "당신의 베팅:  10000\n",
            "당신의 잔액 0\n",
            "당신의 선택:  3\n",
            "야바위 선택:  3\n",
            "당신의 잔액 20000\n",
            "계속하시려면 0을 입력하세요0\n",
            "야바위꾼과 내기를 할 수 있습니다\n",
            "1,2,3중 하나를 선택하세요2\n",
            "당신의 선택:  2\n",
            "당신의 한도 20000\n",
            "당신이 가진 금액 한도에서 베팅하세요(100원 단위)5000\n",
            "당신의 베팅:  5000\n",
            "당신의 잔액 15000\n",
            "당신의 선택:  2\n",
            "야바위 선택:  2\n",
            "당신의 잔액 25000\n",
            "계속하시려면 0을 입력하세요0\n",
            "야바위꾼과 내기를 할 수 있습니다\n",
            "1,2,3중 하나를 선택하세요3\n",
            "당신의 선택:  3\n",
            "당신의 한도 25000\n",
            "당신이 가진 금액 한도에서 베팅하세요(100원 단위)2000\n",
            "당신의 베팅:  2000\n",
            "당신의 잔액 23000\n",
            "당신의 선택:  3\n",
            "야바위 선택:  2\n",
            "당신의 잔액 23000\n",
            "계속하시려면 0을 입력하세요0\n",
            "야바위꾼과 내기를 할 수 있습니다\n",
            "1,2,3중 하나를 선택하세요1\n",
            "당신의 선택:  1\n",
            "당신의 한도 23000\n",
            "당신이 가진 금액 한도에서 베팅하세요(100원 단위)3000\n",
            "당신의 베팅:  3000\n",
            "당신의 잔액 20000\n",
            "당신의 선택:  1\n",
            "야바위 선택:  3\n",
            "당신의 잔액 20000\n",
            "계속하시려면 0을 입력하세요0\n",
            "야바위꾼과 내기를 할 수 있습니다\n",
            "1,2,3중 하나를 선택하세요1\n",
            "당신의 선택:  1\n",
            "당신의 한도 20000\n",
            "당신이 가진 금액 한도에서 베팅하세요(100원 단위)5000\n",
            "당신의 베팅:  5000\n",
            "당신의 잔액 15000\n",
            "당신의 선택:  1\n",
            "야바위 선택:  1\n",
            "당신의 잔액 25000\n",
            "계속하시려면 0을 입력하세요0\n",
            "야바위꾼과 내기를 할 수 있습니다\n",
            "1,2,3중 하나를 선택하세요1\n",
            "당신의 선택:  1\n",
            "당신의 한도 25000\n",
            "당신이 가진 금액 한도에서 베팅하세요(100원 단위)1000\n",
            "당신의 베팅:  1000\n",
            "당신의 잔액 24000\n",
            "당신의 선택:  1\n",
            "야바위 선택:  2\n",
            "당신의 잔액 24000\n",
            "계속하시려면 0을 입력하세요0\n",
            "야바위꾼과 내기를 할 수 있습니다\n",
            "1,2,3중 하나를 선택하세요1\n",
            "당신의 선택:  1\n",
            "당신의 한도 24000\n",
            "당신이 가진 금액 한도에서 베팅하세요(100원 단위)1000\n",
            "당신의 베팅:  1000\n",
            "당신의 잔액 23000\n",
            "당신의 선택:  1\n",
            "야바위 선택:  1\n",
            "당신의 잔액 25000\n",
            "계속하시려면 0을 입력하세요0\n",
            "야바위꾼과 내기를 할 수 있습니다\n",
            "1,2,3중 하나를 선택하세요3\n",
            "당신의 선택:  3\n",
            "당신의 한도 25000\n",
            "당신이 가진 금액 한도에서 베팅하세요(100원 단위)3000\n",
            "당신의 베팅:  3000\n",
            "당신의 잔액 22000\n",
            "당신의 선택:  3\n",
            "야바위 선택:  3\n",
            "당신의 잔액 28000\n",
            "계속하시려면 0을 입력하세요3\n"
          ],
          "name": "stdout"
        }
      ]
    },
    {
      "cell_type": "code",
      "metadata": {
        "scrolled": true,
        "id": "5lHqnSsjZytM",
        "colab_type": "code",
        "outputId": "d6c67cbb-203d-4593-8a08-40dc540a2e28",
        "colab": {
          "base_uri": "https://localhost:8080/",
          "height": 107
        }
      },
      "source": [
        "import numpy as np\n",
        "deck = []\n",
        "you = []\n",
        "com = []\n",
        "for shape in ['Spade ', 'Club  ', 'Diamon', 'Heart ']:\n",
        "    for num in [2,3,4,5,6,7,8,9,10,'A', 'J', 'Q', 'K']:\n",
        "        card = shape[0]+str(num)\n",
        "        card =(shape, num)\n",
        "        deck.append(card)\n",
        "print(len(deck))      \n",
        "for i in range(7):\n",
        "    you.append(deck.pop(np.random.choice(range(len(deck)))))\n",
        "print(len(deck))      \n",
        "for i in range(7):\n",
        "    com.append(deck.pop(np.random.choice(range(len(deck)))))\n",
        "print(len(deck))      \n",
        "print('당신의 패  : ',you)\n",
        "print('컴퓨터의 패: ',com)"
      ],
      "execution_count": 0,
      "outputs": [
        {
          "output_type": "stream",
          "text": [
            "52\n",
            "45\n",
            "38\n",
            "당신의 패  :  [('Club  ', 3), ('Diamon', 5), ('Club  ', 'Q'), ('Heart ', 'J'), ('Heart ', 7), ('Diamon', 4), ('Spade ', 'Q')]\n",
            "컴퓨터의 패:  [('Diamon', 7), ('Heart ', 6), ('Spade ', 6), ('Heart ', 'A'), ('Club  ', 'J'), ('Spade ', 2), ('Club  ', 9)]\n"
          ],
          "name": "stdout"
        }
      ]
    },
    {
      "cell_type": "markdown",
      "metadata": {
        "id": "uBzVJdyzZytQ",
        "colab_type": "text"
      },
      "source": [
        "1. 로얄 플러쉬(Royal Flush a.k.a 로티플)\n",
        "같은 무늬의 카드로 10,J,Q,K,A를 가지고 있으면 메이드\n",
        "\n",
        "2. 스트레이트 플러쉬(Straight Flush a.k.a 스티플)\n",
        "같은 무늬로 5장의 연속된 카드를 가지고 있으면 메이드\n",
        "\n",
        "3. 포카드(Four of a kind)\n",
        "같은 숫자의 카드를 4장 가지고 있으면 메이드\n",
        "\n",
        "4. 풀하우스(Full House)\n",
        "트리플과 함께 하나의 페어를 가지고 있으면 메이드\n",
        "같은 랭킹일 경우 트리플의 숫자가 높은 플레이어가 승리\n",
        "\n",
        "5. 플러쉬(Flush)\n",
        "같은 무늬의 카드를 5장 가지고 있으면 메이드\n",
        "같은 랭킹일 경우 가장 높은 숫자를 보유한 플레이어가 승리\n",
        "\n",
        "6. 스트레이트(Straight)\n",
        "연속된 5장의 카드를 가지고 있으면 메이드\n",
        "A(Ace)의 경우는 10,J,Q,K,A와 A,2,3,4,5가 가능\n",
        "전자의 경우 스트레이트에서 가장 높은 등급이고, 후자의 경우가 가장 낮은 등급\n",
        "\n",
        "7. 쓰리 오브 어 카인드(Three of a kind a.k.a 트리플)\n",
        "같은 숫자의 카드를 3장 가지고 있으면 메이드\n",
        "\n",
        "8. 투페어(Two Pair)\n",
        "같은 숫자의 카드 2장을 2개 보유하고 있으면 메이드\n",
        "\n",
        "9. 원페어(One Pair)\n",
        "같은 숫자의 카드 2장을 1개 보유하고 있으면 메이드\n",
        "\n",
        "10. 하이카드(High Card)\n",
        "아무런 페어가 없이 가지고 있는 숫자중 가장 높은 수치의 카드"
      ]
    },
    {
      "cell_type": "code",
      "metadata": {
        "id": "fCNtg-_6ZytR",
        "colab_type": "code",
        "outputId": "dee8a70c-3dc5-4fe8-cc25-88c444f9b309",
        "colab": {}
      },
      "source": [
        ""
      ],
      "execution_count": 0,
      "outputs": [
        {
          "output_type": "execute_result",
          "data": {
            "text/plain": [
              "3"
            ]
          },
          "metadata": {
            "tags": []
          },
          "execution_count": 24
        }
      ]
    }
  ]
}